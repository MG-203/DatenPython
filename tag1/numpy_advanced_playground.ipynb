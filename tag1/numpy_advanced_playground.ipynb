{
 "cells": [
  {
   "cell_type": "code",
   "execution_count": 18,
   "id": "c370078e",
   "metadata": {},
   "outputs": [
    {
     "name": "stdout",
     "output_type": "stream",
     "text": [
      "[5.35758639e-34 7.69495209e-34 1.10275583e-33 ... 0.00000000e+00\n",
      " 0.00000000e+00 0.00000000e+00]\n"
     ]
    }
   ],
   "source": [
    "import numpy as np\n",
    "import pandas as pd\n",
    "df = pd.read_csv(\"spectrum_no_header.csv\", sep=r\"\\s+\", header=None, \n",
    "                 names=[\"Wellenzahl\", \"Intensität\"])\n",
    "# print(df)\n",
    "# print(df.info())\n",
    "\n",
    "array = np.array(df)\n",
    "# print(array[:10, :])\n",
    "# print(array[10:21,:])\n",
    "print(array[:,1])"
   ]
  }
 ],
 "metadata": {
  "kernelspec": {
   "display_name": "Python 3",
   "language": "python",
   "name": "python3"
  },
  "language_info": {
   "codemirror_mode": {
    "name": "ipython",
    "version": 3
   },
   "file_extension": ".py",
   "mimetype": "text/x-python",
   "name": "python",
   "nbconvert_exporter": "python",
   "pygments_lexer": "ipython3",
   "version": "3.13.1"
  }
 },
 "nbformat": 4,
 "nbformat_minor": 5
}
